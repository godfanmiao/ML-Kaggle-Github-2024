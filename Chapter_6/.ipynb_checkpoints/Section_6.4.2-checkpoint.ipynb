{
 "cells": [
  {
   "cell_type": "code",
   "execution_count": 1,
   "id": "cfac03a5",
   "metadata": {},
   "outputs": [],
   "source": [
    "##################################################################\n",
    "#《Python机器学习及实践：从零开始通往Kaggle竞赛之路（2024年度版）》开源代码\n",
    "#-----------------------------------------------------------------\n",
    "#                 @章节号：6.4.2（残差神经网络的TensorFlow实践）                           \n",
    "#                 @作者：范淼、徐晟桐                                      \n",
    "#                 @电子邮箱：fanmiao.cslt.thu@hotmail.com             \n",
    "#                 @微博：https://weibo.com/fanmiaothu             \n",
    "#                 @官方交流QQ群号：561500762                        \n",
    "##################################################################"
   ]
  },
  {
   "cell_type": "code",
   "execution_count": 7,
   "id": "639847e0",
   "metadata": {},
   "outputs": [],
   "source": [
    "from tensorflow.keras import models, layers, losses, optimizers, Model\n",
    "from tensorflow import nn\n",
    "\n",
    "\n",
    "#设置超参数。\n",
    "KERNEL_SIZE = 3\n",
    "FILTERS = (32, 64)\n",
    "HIDDEN_SIZE = 256\n",
    "NUM_CLASSES = 10\n",
    "EPOCHS = 5\n",
    "BATCH_SIZE = 64\n",
    "LEARNING_RATE = 1e-3\n",
    "\n",
    "\n",
    "#初始化残差神经网络模型。\n",
    "class ResNet(Model):\n",
    "    '''\n",
    "    残差神经网络类，继承自keras.Model。\n",
    "    '''\n",
    "    def __init__(self, kernel_size, filters, hidden_units, num_classes):\n",
    "        \n",
    "        super(ResNet, self).__init__()\n",
    "        \n",
    "        self.conv2a = layers.Conv2D(filters[0], kernel_size, padding = 'same')\n",
    "\n",
    "        self.conv2b = layers.Conv2D(filters[1], kernel_size, padding = 'same')\n",
    "\n",
    "        self.pool = layers.MaxPooling2D((2,2), padding = 'same')\n",
    "        \n",
    "        self.flat = layers.Flatten()\n",
    "        \n",
    "        self.l1 = layers.Dense(hidden_units, activation = 'relu')\n",
    "        \n",
    "        self.l2 = layers.Dense(num_classes)\n",
    "\n",
    "        \n",
    "    def call(self, input_tensor):\n",
    "        \n",
    "        x = self.conv2a(input_tensor)\n",
    "        \n",
    "        x = nn.relu(x)\n",
    "\n",
    "        x = self.conv2b(x)\n",
    "\n",
    "        x += input_tensor\n",
    "        \n",
    "        x = nn.relu(x)\n",
    "        \n",
    "        x = self.pool(x)\n",
    "        \n",
    "        x = self.flat(x)\n",
    "        \n",
    "        x = self.l1(x)\n",
    "        \n",
    "        x = self.l2(x)\n",
    "         \n",
    "        return x\n",
    "    \n",
    "#初始化残差神经网络模型。\n",
    "model = ResNet(KERNEL_SIZE, FILTERS, HIDDEN_SIZE, NUM_CLASSES)\n",
    "\n",
    "#设定神经网络的损失函数、优化方式，以及评估方法。\n",
    "model.compile(optimizer=optimizers.Adam(LEARNING_RATE),\n",
    "              loss=losses.SparseCategoricalCrossentropy(from_logits=True),\n",
    "              metrics=['accuracy'])"
   ]
  },
  {
   "cell_type": "code",
   "execution_count": 3,
   "id": "fbc98936",
   "metadata": {},
   "outputs": [],
   "source": [
    "import pandas as pd\n",
    "\n",
    "\n",
    "#使用pandas，读取fashion_mnist的训练和测试数据文件。\n",
    "train_data = pd.read_csv('../datasets/fashion_mnist/fashion_mnist_train.csv')\n",
    "test_data = pd.read_csv('../datasets/fashion_mnist/fashion_mnist_test.csv')\n",
    "\n",
    "#从训练数据中，拆解出训练特征和类别标签。\n",
    "X_train = train_data[train_data.columns[1:]]\n",
    "y_train = train_data['label']\n",
    "\n",
    "#从测试数据中，拆解出测试特征和类别标签。\n",
    "X_test = test_data[train_data.columns[1:]]\n",
    "y_test = test_data['label']"
   ]
  },
  {
   "cell_type": "code",
   "execution_count": 4,
   "id": "420972fe",
   "metadata": {},
   "outputs": [],
   "source": [
    "from sklearn.preprocessing import StandardScaler\n",
    "\n",
    "\n",
    "#初始化数据标准化处理器。\n",
    "ss = StandardScaler()\n",
    "\n",
    "#标准化训练数据特征。\n",
    "X_train = ss.fit_transform(X_train)\n",
    "\n",
    "#标准化测试数据特征。\n",
    "X_test = ss.transform(X_test)"
   ]
  },
  {
   "cell_type": "code",
   "execution_count": 5,
   "id": "26866d42",
   "metadata": {},
   "outputs": [
    {
     "name": "stderr",
     "output_type": "stream",
     "text": [
      "2021-12-21 15:16:08.050166: I tensorflow/compiler/mlir/mlir_graph_optimization_pass.cc:116] None of the MLIR optimization passes are enabled (registered 2)\n"
     ]
    },
    {
     "name": "stdout",
     "output_type": "stream",
     "text": [
      "Epoch 1/5\n",
      "938/938 [==============================] - 137s 146ms/step - loss: 1.0978 - accuracy: 0.7697\n",
      "Epoch 2/5\n",
      "938/938 [==============================] - 143s 153ms/step - loss: 0.2881 - accuracy: 0.8959\n",
      "Epoch 3/5\n",
      "938/938 [==============================] - 147s 157ms/step - loss: 0.2143 - accuracy: 0.9202\n",
      "Epoch 4/5\n",
      "938/938 [==============================] - 149s 159ms/step - loss: 0.1646 - accuracy: 0.9407\n",
      "Epoch 5/5\n",
      "938/938 [==============================] - 145s 155ms/step - loss: 0.1218 - accuracy: 0.9563\n"
     ]
    },
    {
     "data": {
      "text/plain": [
       "<tensorflow.python.keras.callbacks.History at 0x7fddf93f4250>"
      ]
     },
     "execution_count": 5,
     "metadata": {},
     "output_type": "execute_result"
    }
   ],
   "source": [
    "X_train = X_train.reshape([-1, 28, 28, 1])\n",
    "\n",
    "#使用fashion_mnist的训练集数据训练网络模型。\n",
    "model.fit(X_train, y_train.values, batch_size=BATCH_SIZE, epochs=EPOCHS, verbose=1)"
   ]
  },
  {
   "cell_type": "code",
   "execution_count": 6,
   "id": "ac8f6c27",
   "metadata": {},
   "outputs": [
    {
     "name": "stdout",
     "output_type": "stream",
     "text": [
      "残差神经网络（TensorFlow版本）在fashion_mnist测试集上的准确率为: 92.33%。\n"
     ]
    }
   ],
   "source": [
    "X_test = X_test.reshape([-1, 28, 28, 1])\n",
    "\n",
    "#使用fashion_mnist的测试集数据评估网络模型的效果。\n",
    "result = model.evaluate(X_test, y_test.values, verbose=0)\n",
    "\n",
    "print('残差神经网络（TensorFlow版本）在fashion_mnist测试集上的准确率为: %.2f%%。' %(result[1] * 100))"
   ]
  }
 ],
 "metadata": {
  "kernelspec": {
   "display_name": "Python 3 (ipykernel)",
   "language": "python",
   "name": "python3"
  },
  "language_info": {
   "codemirror_mode": {
    "name": "ipython",
    "version": 3
   },
   "file_extension": ".py",
   "mimetype": "text/x-python",
   "name": "python",
   "nbconvert_exporter": "python",
   "pygments_lexer": "ipython3",
   "version": "3.9.13"
  }
 },
 "nbformat": 4,
 "nbformat_minor": 5
}
