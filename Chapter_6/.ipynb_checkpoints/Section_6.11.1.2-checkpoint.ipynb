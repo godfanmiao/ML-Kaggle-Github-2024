{
 "cells": [
  {
   "cell_type": "code",
   "execution_count": 1,
   "id": "346cdaf6",
   "metadata": {},
   "outputs": [],
   "source": [
    "##################################################################\n",
    "#《Python机器学习及实践：从零开始通往Kaggle竞赛之路（2023年度版）》开源代码\n",
    "#-----------------------------------------------------------------\n",
    "#                 @章节号：6.8.1.2（随机失活的TensorFlow实践）                           \n",
    "#                 @作者：范淼                                      \n",
    "#                 @电子邮箱：fanmiao.cslt.thu@gmail.com             \n",
    "#                 @微博：https://weibo.com/fanmiaothu             \n",
    "#                 @官方交流QQ群号：561500762                        \n",
    "##################################################################"
   ]
  },
  {
   "cell_type": "code",
   "execution_count": 2,
   "id": "3f94a616",
   "metadata": {},
   "outputs": [
    {
     "name": "stderr",
     "output_type": "stream",
     "text": [
      "2021-11-17 13:47:24.423187: I tensorflow/core/platform/cpu_feature_guard.cc:142] This TensorFlow binary is optimized with oneAPI Deep Neural Network Library (oneDNN) to use the following CPU instructions in performance-critical operations:  SSE4.1 SSE4.2\n",
      "To enable them in other operations, rebuild TensorFlow with the appropriate compiler flags.\n"
     ]
    }
   ],
   "source": [
    "from tensorflow.keras import models, layers, losses, optimizers\n",
    "\n",
    "\n",
    "#设定超参数。\n",
    "HIDDEN_SIZE = 256 \n",
    "NUM_CLASSES = 10\n",
    "EPOCHS = 5\n",
    "BATCH_SIZE = 64\n",
    "LEARNING_RATE = 1e-3\n",
    "DROPOUT_RATE = 0.2\n",
    "\n",
    "#初始化带有随机失活功能的前馈神经网络模型。\n",
    "model = models.Sequential()\n",
    "\n",
    "model.add(layers.Dense(HIDDEN_SIZE, activation='relu'))\n",
    "\n",
    "model.add(layers.Dropout(DROPOUT_RATE))\n",
    "\n",
    "model.add(layers.Dense(NUM_CLASSES))\n",
    "\n",
    "#设定神经网络的损失函数、优化方式，以及评估方法。\n",
    "model.compile(optimizer=optimizers.Adam(LEARNING_RATE), \n",
    "              loss=losses.SparseCategoricalCrossentropy(from_logits=True), \n",
    "              metrics=['accuracy'])"
   ]
  },
  {
   "cell_type": "code",
   "execution_count": 3,
   "id": "a8b466ba",
   "metadata": {},
   "outputs": [],
   "source": [
    "import pandas as pd\n",
    "\n",
    "\n",
    "#使用pandas，读取fashion_mnist的训练和测试数据文件。\n",
    "train_data = pd.read_csv('../datasets/fashion_mnist/fashion_mnist_train.csv')\n",
    "test_data = pd.read_csv('../datasets/fashion_mnist/fashion_mnist_test.csv')\n",
    "\n",
    "#从训练数据中，拆解出训练特征和类别标签。\n",
    "X_train = train_data[train_data.columns[1:]]\n",
    "y_train = train_data['label']\n",
    "\n",
    "#从测试数据中，拆解出测试特征和类别标签。\n",
    "X_test = test_data[train_data.columns[1:]]\n",
    "y_test = test_data['label']"
   ]
  },
  {
   "cell_type": "code",
   "execution_count": 4,
   "id": "3c5ce634",
   "metadata": {},
   "outputs": [],
   "source": [
    "from sklearn.preprocessing import StandardScaler\n",
    "\n",
    "\n",
    "#初始化数据标准化处理器。\n",
    "ss = StandardScaler()\n",
    "\n",
    "#标准化训练数据特征。\n",
    "X_train = ss.fit_transform(X_train)\n",
    "\n",
    "#标准化测试数据特征。\n",
    "X_test = ss.transform(X_test)"
   ]
  },
  {
   "cell_type": "code",
   "execution_count": 5,
   "id": "3409ec0e",
   "metadata": {},
   "outputs": [
    {
     "name": "stderr",
     "output_type": "stream",
     "text": [
      "2021-11-17 13:47:33.217692: I tensorflow/compiler/mlir/mlir_graph_optimization_pass.cc:116] None of the MLIR optimization passes are enabled (registered 2)\n"
     ]
    },
    {
     "name": "stdout",
     "output_type": "stream",
     "text": [
      "Epoch 1/5\n",
      "938/938 [==============================] - 6s 6ms/step - loss: 0.6059 - accuracy: 0.7935\n",
      "Epoch 2/5\n",
      "938/938 [==============================] - 6s 6ms/step - loss: 0.3645 - accuracy: 0.8677\n",
      "Epoch 3/5\n",
      "938/938 [==============================] - 5s 6ms/step - loss: 0.3264 - accuracy: 0.8809\n",
      "Epoch 4/5\n",
      "938/938 [==============================] - 5s 6ms/step - loss: 0.2960 - accuracy: 0.8899\n",
      "Epoch 5/5\n",
      "938/938 [==============================] - 5s 6ms/step - loss: 0.2739 - accuracy: 0.9007\n"
     ]
    },
    {
     "data": {
      "text/plain": [
       "<tensorflow.python.keras.callbacks.History at 0x7fefe0016190>"
      ]
     },
     "execution_count": 5,
     "metadata": {},
     "output_type": "execute_result"
    }
   ],
   "source": [
    "#使用fashion_mnist的训练集数据训练网络模型。\n",
    "model.fit(X_train, y_train.values, batch_size=BATCH_SIZE, epochs=EPOCHS, verbose=1)"
   ]
  },
  {
   "cell_type": "code",
   "execution_count": 6,
   "id": "42c13335",
   "metadata": {},
   "outputs": [
    {
     "name": "stdout",
     "output_type": "stream",
     "text": [
      "带有随机失活功能的前馈神经网络（TensorFlow版本）在fashion_mnist测试集上的准确率为: 88.78%。\n"
     ]
    }
   ],
   "source": [
    "#使用fashion_mnist的测试集数据评估网络模型的效果。\n",
    "result = model.evaluate(X_test, y_test.values, verbose=0)\n",
    "\n",
    "print('带有随机失活功能的前馈神经网络（TensorFlow版本）在fashion_mnist测试集上的准确率为: %.2f%%。' %(result[1] * 100))"
   ]
  }
 ],
 "metadata": {
  "kernelspec": {
   "display_name": "Python 3 (ipykernel)",
   "language": "python",
   "name": "python3"
  },
  "language_info": {
   "codemirror_mode": {
    "name": "ipython",
    "version": 3
   },
   "file_extension": ".py",
   "mimetype": "text/x-python",
   "name": "python",
   "nbconvert_exporter": "python",
   "pygments_lexer": "ipython3",
   "version": "3.8.12"
  }
 },
 "nbformat": 4,
 "nbformat_minor": 5
}
