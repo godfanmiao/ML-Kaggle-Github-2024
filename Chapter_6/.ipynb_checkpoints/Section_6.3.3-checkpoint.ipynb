{
 "cells": [
  {
   "cell_type": "code",
   "execution_count": 1,
   "id": "ae61ec9c",
   "metadata": {},
   "outputs": [],
   "source": [
    "##################################################################\n",
    "#《Python机器学习及实践：从零开始通往Kaggle竞赛之路（2024年度版）》开源代码\n",
    "#-----------------------------------------------------------------\n",
    "#                 @章节号：6.3.3（卷积神经网络的PaddlePaddle实践）                           \n",
    "#                 @作者：范淼、徐晟桐 \n",
    "#                 @购书链接：https://item.jd.com/13482761.html\n",
    "#                 @电子邮箱：fanmiao.cslt.thu@hotmail.com              \n",
    "#                 @官方交流QQ群号：561500762                        \n",
    "##################################################################"
   ]
  },
  {
   "cell_type": "code",
   "execution_count": 2,
   "id": "980b48b2",
   "metadata": {},
   "outputs": [],
   "source": [
    "import paddle\n",
    "from paddle import nn, optimizer, metric\n",
    "\n",
    "\n",
    "#设定超参数。\n",
    "KERNEL_SIZE = 3\n",
    "FILTERS = (32, 64)\n",
    "HIDDEN_SIZE = 256\n",
    "NUM_CLASSES = 10\n",
    "EPOCHS = 5\n",
    "BATCH_SIZE = 64\n",
    "LEARNING_RATE = 1e-3\n",
    "\n",
    "\n",
    "# 搭建卷积神经网络。\n",
    "paddle_model = nn.Sequential(\n",
    "    nn.Conv2D(in_channels=1, out_channels=FILTERS[0], kernel_size=KERNEL_SIZE, padding='same'),\n",
    "    nn.ReLU(),\n",
    "    \n",
    "    nn.Conv2D(in_channels=FILTERS[0], out_channels=FILTERS[1], kernel_size=KERNEL_SIZE, padding='same'),\n",
    "    nn.ReLU(),\n",
    "    \n",
    "    nn.MaxPool2D(kernel_size=2, stride=2),\n",
    "    \n",
    "    nn.Flatten(),\n",
    "    \n",
    "    nn.Linear(in_features=int((28/2) ** 2 * FILTERS[1]), out_features=HIDDEN_SIZE),\n",
    "    nn.ReLU(),\n",
    "    \n",
    "    nn.Linear(in_features=HIDDEN_SIZE, out_features=NUM_CLASSES)\n",
    ")\n",
    "\n",
    "#初始化卷积神经网络模型。\n",
    "model = paddle.Model(paddle_model)\n",
    "\n",
    "#为模型训练做准备，设置优化器，损失函数和评估指标。\n",
    "model.prepare(optimizer=optimizer.Adam(learning_rate=LEARNING_RATE, parameters=model.parameters()),\n",
    "              loss=nn.CrossEntropyLoss(),\n",
    "              metrics=metric.Accuracy())"
   ]
  },
  {
   "cell_type": "code",
   "execution_count": 3,
   "id": "826b15f9",
   "metadata": {},
   "outputs": [],
   "source": [
    "import pandas as pd\n",
    "\n",
    "#使用pandas，读取fashion_mnist的训练和测试数据文件。\n",
    "train_data = pd.read_csv('../datasets/fashion_mnist/fashion_mnist_train.csv')\n",
    "test_data = pd.read_csv('../datasets/fashion_mnist/fashion_mnist_test.csv')\n",
    "\n",
    "#从训练数据中，拆解出训练特征和类别标签。\n",
    "X_train = train_data[train_data.columns[1:]]\n",
    "y_train = train_data['label']\n",
    "\n",
    "#从测试数据中，拆解出测试特征和类别标签。\n",
    "X_test = test_data[train_data.columns[1:]]\n",
    "y_test = test_data['label']"
   ]
  },
  {
   "cell_type": "code",
   "execution_count": 4,
   "id": "2f18e8bf",
   "metadata": {},
   "outputs": [],
   "source": [
    "from sklearn.preprocessing import StandardScaler\n",
    "\n",
    "#初始化数据标准化处理器。\n",
    "ss = StandardScaler()\n",
    "\n",
    "#标准化训练数据特征。\n",
    "X_train = ss.fit_transform(X_train)\n",
    "\n",
    "#标准化测试数据特征。\n",
    "X_test = ss.transform(X_test)"
   ]
  },
  {
   "cell_type": "code",
   "execution_count": 5,
   "id": "a61de831",
   "metadata": {},
   "outputs": [
    {
     "name": "stdout",
     "output_type": "stream",
     "text": [
      "The loss value printed in the log is the current step, and the metric is the average value of previous steps.\n",
      "Epoch 1/5\n",
      "step 938/938 [==============================] - loss: 0.1193 - acc: 0.8748 - 307ms/step          \n",
      "Epoch 2/5\n",
      "step 938/938 [==============================] - loss: 0.1278 - acc: 0.9266 - 2s/step           \n",
      "Epoch 3/5\n",
      "step 938/938 [==============================] - loss: 0.0255 - acc: 0.9479 - 879ms/step          \n",
      "Epoch 4/5\n",
      "step 938/938 [==============================] - loss: 0.0381 - acc: 0.9651 - 450ms/step          \n",
      "Epoch 5/5\n",
      "step 938/938 [==============================] - loss: 0.0320 - acc: 0.9778 - 1s/step          \n"
     ]
    }
   ],
   "source": [
    "from paddle.io import TensorDataset\n",
    "\n",
    "X_train = X_train.reshape([-1, 1, 28, 28])\n",
    "\n",
    "X_train = paddle.to_tensor(X_train.astype('float32'))\n",
    "\n",
    "y_train = y_train.values\n",
    "\n",
    "#构建适用于PaddlePaddle模型训练的数据集。\n",
    "train_dataset = TensorDataset([X_train, y_train])\n",
    "\n",
    "#启动模型训练，指定训练数据集，设置训练轮次，设置每次数据集计算的批次大小。\n",
    "model.fit(train_dataset, epochs=EPOCHS, batch_size=BATCH_SIZE, verbose=1)"
   ]
  },
  {
   "cell_type": "code",
   "execution_count": 6,
   "id": "48be16c7",
   "metadata": {},
   "outputs": [
    {
     "name": "stdout",
     "output_type": "stream",
     "text": [
      "卷积神经网络（PaddlePaddle版本）在fashion_mnist测试集上的准确率为: 91.93%。\n"
     ]
    }
   ],
   "source": [
    "X_test = X_test.reshape([-1, 1, 28, 28])\n",
    "\n",
    "X_test = paddle.to_tensor(X_test.astype('float32'))\n",
    "\n",
    "y_test = y_test.values\n",
    "\n",
    "#构建适用于PaddlePaddle模型测试的数据集。\n",
    "test_dataset = TensorDataset([X_test, y_test])\n",
    "\n",
    "#启动模型测试，指定测试数据集。\n",
    "result = model.evaluate(test_dataset, verbose=0)\n",
    "\n",
    "print('卷积神经网络（PaddlePaddle版本）在fashion_mnist测试集上的准确率为: %.2f%%。' %(result['acc'] * 100))"
   ]
  }
 ],
 "metadata": {
  "kernelspec": {
   "display_name": "Python 3 (ipykernel)",
   "language": "python",
   "name": "python3"
  },
  "language_info": {
   "codemirror_mode": {
    "name": "ipython",
    "version": 3
   },
   "file_extension": ".py",
   "mimetype": "text/x-python",
   "name": "python",
   "nbconvert_exporter": "python",
   "pygments_lexer": "ipython3",
   "version": "3.9.16"
  }
 },
 "nbformat": 4,
 "nbformat_minor": 5
}
