{
 "cells": [
  {
   "cell_type": "code",
   "execution_count": 1,
   "id": "3f3d69d1",
   "metadata": {},
   "outputs": [],
   "source": [
    "##################################################################\n",
    "#《Python机器学习及实践：从零开始通往Kaggle竞赛之路（2024年度版）》开源代码\n",
    "#-----------------------------------------------------------------\n",
    "#                 @章节号：6.8.1（Transformer模型的PyTorch实践）                           \n",
    "#                 @作者：范淼、徐晟桐 \n",
    "#                 @购书链接：https://item.jd.com/13482761.html\n",
    "#                 @电子邮箱：fanmiao.cslt.thu@hotmail.com            \n",
    "#                 @官方交流QQ群号：561500762                        \n",
    "##################################################################"
   ]
  },
  {
   "cell_type": "code",
   "execution_count": 2,
   "id": "3c5ce634",
   "metadata": {},
   "outputs": [],
   "source": [
    "from torch import nn, optim\n",
    "\n",
    "\n",
    "#设定超参数。\n",
    "INPUT_SIZE = 784 \n",
    "HIDDEN_SIZE = 256\n",
    "EPOCHS = 5\n",
    "BATCH_SIZE = 64\n",
    "LEARNING_RATE = 1e-3 \n",
    "\n",
    "\n",
    "class Transformer_Encoder(nn.Module):\n",
    "    '''\n",
    "    自定义Transformer（编码器）模型类，继承自nn.Module。\n",
    "    '''\n",
    "    def __init__(self, input_size, hidden_size):\n",
    "        \n",
    "        super(Transformer_Encoder, self).__init__()\n",
    "        \n",
    "        self.multihead_attn = nn.MultiheadAttention(embed_dim=input_units, num_heads=num_heads, batch_first=True)\n",
    "        \n",
    "        self.l = nn.Linear(input_size, hidden_size) \n",
    "        \n",
    "        self.relu = nn.ReLU()\n",
    "        \n",
    "        self.bn = nn.BatchNorm1d()\n",
    "        \n",
    "        \n",
    "    def forward(self, x):\n",
    "        \n",
    "        out = self.l1(x)\n",
    "        \n",
    "        out = self.relu(out)\n",
    "        \n",
    "        out = self.l2(out)\n",
    "        \n",
    "        return out \n",
    "\n",
    "\n",
    "#初始化Transformer（编码器）模型。\n",
    "model = Transformer_Encoder(INPUT_SIZE, HIDDEN_SIZE，NUM_HEADS, NUM_CLASSES)\n",
    "\n",
    "#设定神经网络的损失函数。\n",
    "criterion = nn.CrossEntropyLoss()\n",
    "\n",
    "#设定神经网络的优化方法。\n",
    "optimizer = optim.Adam(model.parameters(), lr = LEARNING_RATE) "
   ]
  },
  {
   "cell_type": "code",
   "execution_count": 3,
   "id": "fb6a2a25",
   "metadata": {},
   "outputs": [],
   "source": [
    "import pandas as pd\n",
    "\n",
    "\n",
    "#使用pandas，读取fashion_mnist的训练和测试数据文件。\n",
    "train_data = pd.read_csv('../datasets/fashion_mnist/fashion_mnist_train.csv')\n",
    "test_data = pd.read_csv('../datasets/fashion_mnist/fashion_mnist_test.csv')\n",
    "\n",
    "#从训练数据中，拆解出训练特征和类别标签。\n",
    "X_train = train_data[train_data.columns[1:]]\n",
    "\n",
    "#从测试数据中，拆解出测试特征和类别标签。\n",
    "X_test = test_data[train_data.columns[1:]]"
   ]
  },
  {
   "cell_type": "code",
   "execution_count": 4,
   "id": "0d1c610a",
   "metadata": {},
   "outputs": [],
   "source": [
    "from sklearn.preprocessing import StandardScaler\n",
    "\n",
    "\n",
    "#初始化数据标准化处理器。\n",
    "ss = StandardScaler()\n",
    "\n",
    "#标准化训练数据特征。\n",
    "X_train = ss.fit_transform(X_train)\n",
    "\n",
    "#标准化测试数据特征。\n",
    "X_test = ss.transform(X_test)"
   ]
  },
  {
   "cell_type": "code",
   "execution_count": 5,
   "id": "5b4c47cf",
   "metadata": {},
   "outputs": [
    {
     "name": "stdout",
     "output_type": "stream",
     "text": [
      "Epoch [1/5], Step[300/938], Loss: 0.1917\n",
      "Epoch [1/5], Step[600/938], Loss: 0.1101\n",
      "Epoch [1/5], Step[900/938], Loss: 0.1299\n",
      "Epoch [2/5], Step[300/938], Loss: 0.1246\n",
      "Epoch [2/5], Step[600/938], Loss: 0.0854\n",
      "Epoch [2/5], Step[900/938], Loss: 0.1051\n",
      "Epoch [3/5], Step[300/938], Loss: 0.0791\n",
      "Epoch [3/5], Step[600/938], Loss: 0.0829\n",
      "Epoch [3/5], Step[900/938], Loss: 0.0746\n",
      "Epoch [4/5], Step[300/938], Loss: 0.0617\n",
      "Epoch [4/5], Step[600/938], Loss: 0.0678\n",
      "Epoch [4/5], Step[900/938], Loss: 0.0587\n",
      "Epoch [5/5], Step[300/938], Loss: 0.0557\n",
      "Epoch [5/5], Step[600/938], Loss: 0.0658\n",
      "Epoch [5/5], Step[900/938], Loss: 0.0814\n"
     ]
    }
   ],
   "source": [
    "import torch\n",
    "from torch.utils.data import TensorDataset, DataLoader\n",
    "\n",
    "\n",
    "#构建适用于PyTorch模型训练的数据结构。\n",
    "train_tensor = TensorDataset(torch.tensor(X_train.astype('float32')))\n",
    "\n",
    "#构建适用于PyTorch模型训练的数据读取器。 \n",
    "train_loader = DataLoader(dataset = train_tensor, batch_size = BATCH_SIZE, shuffle = True)\n",
    "\n",
    "n_total_steps = len(train_loader)\n",
    "\n",
    "#开启模型训练。\n",
    "model.train()\n",
    "\n",
    "for epoch in range(EPOCHS):\n",
    "    for i, items in enumerate(train_loader):  \n",
    "        outputs = model(items[0])\n",
    "        loss = criterion(outputs, items[0])\n",
    "        \n",
    "        optimizer.zero_grad()\n",
    "        loss.backward()\n",
    "        optimizer.step()\n",
    "        \n",
    "        if (i+1) % 300 == 0:\n",
    "             print (f'Epoch [{epoch+1}/{EPOCHS}], Step[{i+1}/{n_total_steps}], Loss: {loss.item():.4f}') "
   ]
  },
  {
   "cell_type": "code",
   "execution_count": 6,
   "id": "349b629b",
   "metadata": {},
   "outputs": [
    {
     "data": {
      "image/png": "[encoded data removed]",
      "text/plain": [
       "<Figure size 600x400 with 1 Axes>"
      ]
     },
     "metadata": {
      "needs_background": "light"
     },
     "output_type": "display_data"
    }
   ],
   "source": [
    "#构建适用于PyTorch模型测试的数据结构。\n",
    "test_tensor = TensorDataset(torch.tensor(X_test.astype('float32')), torch.tensor(y_test.values))\n",
    "\n",
    "#构建适用于PyTorch模型测试的数据读取器。\n",
    "test_loader = DataLoader(dataset = test_tensor, batch_size = BATCH_SIZE, shuffle = False)\n",
    "\n",
    "#开启模型测试。\n",
    "model.eval()\n",
    "\n",
    "n_correct = 0\n",
    "n_samples = 0\n",
    "\n",
    "for images, labels in test_loader:\n",
    "    images = images.reshape([-1, TIME_STEPS, INPUT_UNITS])\n",
    "    outputs = model(images)\n",
    "    _, predictions = torch.max(outputs.data, 1)\n",
    "\n",
    "    n_samples += labels.size(0)\n",
    "    n_correct += (predictions == labels).sum().item() \n",
    "\n",
    "acc = 100.0 * n_correct / n_samples\n",
    "\n",
    "print('Transformer模型（PyTorch版本）在fashion_mnist测试集上的准确率为: %.2f%%。' %acc) "
   ]
  }
 ],
 "metadata": {
  "kernelspec": {
   "display_name": "Python 3 (ipykernel)",
   "language": "python",
   "name": "python3"
  },
  "language_info": {
   "codemirror_mode": {
    "name": "ipython",
    "version": 3
   },
   "file_extension": ".py",
   "mimetype": "text/x-python",
   "name": "python",
   "nbconvert_exporter": "python",
   "pygments_lexer": "ipython3",
   "version": "3.9.16"
  }
 },
 "nbformat": 4,
 "nbformat_minor": 5
}
