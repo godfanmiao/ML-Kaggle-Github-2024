{
 "cells": [
  {
   "cell_type": "code",
   "execution_count": 1,
   "id": "ee075595",
   "metadata": {},
   "outputs": [],
   "source": [
    "##################################################################\n",
    "#《Python机器学习及实践：从零开始通往Kaggle竞赛之路（2024年度版）》开源代码\n",
    "#-----------------------------------------------------------------\n",
    "#                 @章节号：6.5.2（循环神经网络的TensorFlow实践）                           \n",
    "#                 @作者：范淼、徐晟桐 \n",
    "#                 @购书链接：https://item.jd.com/13482761.html\n",
    "#                 @电子邮箱：fanmiao.cslt.thu@hotmail.com           \n",
    "#                 @官方交流QQ群号：561500762                        \n",
    "##################################################################"
   ]
  },
  {
   "cell_type": "code",
   "execution_count": 2,
   "id": "6f0a6c4b",
   "metadata": {},
   "outputs": [
    {
     "name": "stderr",
     "output_type": "stream",
     "text": [
      "2023-02-20 21:29:46.518099: I tensorflow/core/platform/cpu_feature_guard.cc:193] This TensorFlow binary is optimized with oneAPI Deep Neural Network Library (oneDNN) to use the following CPU instructions in performance-critical operations:  SSE4.1 SSE4.2 AVX AVX2 FMA\n",
      "To enable them in other operations, rebuild TensorFlow with the appropriate compiler flags.\n",
      "2023-02-20 21:29:49.110257: I tensorflow/core/platform/cpu_feature_guard.cc:193] This TensorFlow binary is optimized with oneAPI Deep Neural Network Library (oneDNN) to use the following CPU instructions in performance-critical operations:  SSE4.1 SSE4.2 AVX AVX2 FMA\n",
      "To enable them in other operations, rebuild TensorFlow with the appropriate compiler flags.\n"
     ]
    }
   ],
   "source": [
    "from tensorflow.keras import models, layers, losses, optimizers, Model\n",
    "\n",
    "\n",
    "#设置超参数。\n",
    "INPUT_UNITS = 56\n",
    "TIME_STEPS = 14\n",
    "HIDDEN_SIZE = 256\n",
    "NUM_CLASSES = 10\n",
    "EPOCHS = 5\n",
    "BATCH_SIZE = 64\n",
    "LEARNING_RATE = 1e-3\n",
    "\n",
    "\n",
    "class RNN(Model):\n",
    "    '''\n",
    "    自定义循环神经网络类，继承自keras.Model。\n",
    "    '''\n",
    "    def __init__(self, hidden_size, num_classes):\n",
    "        \n",
    "        super(RNN, self).__init__()\n",
    "        \n",
    "        self.lstm = layers.LSTM(hidden_size)\n",
    "    \n",
    "        self.linear = layers.Dense(num_classes)\n",
    "\n",
    "\n",
    "    def call(self, input_tensor):\n",
    "        \n",
    "        out = self.lstm(input_tensor)\n",
    "        \n",
    "        out = self.linear(out)\n",
    "        \n",
    "        return out\n",
    "\n",
    "\n",
    "#初始化循环神经网络。\n",
    "model = RNN(HIDDEN_SIZE, NUM_CLASSES)\n",
    "\n",
    "#设定神经网络的损失函数、优化方式，以及评估方法。\n",
    "model.compile(optimizer=optimizers.Adam(LEARNING_RATE),\n",
    "              loss=losses.SparseCategoricalCrossentropy(from_logits=True),\n",
    "              metrics=['accuracy'])"
   ]
  },
  {
   "cell_type": "code",
   "execution_count": 3,
   "id": "5727ebde",
   "metadata": {},
   "outputs": [],
   "source": [
    "import pandas as pd\n",
    "\n",
    "\n",
    "#使用pandas，读取fashion_mnist的训练和测试数据文件。\n",
    "train_data = pd.read_csv('../datasets/fashion_mnist/fashion_mnist_train.csv')\n",
    "test_data = pd.read_csv('../datasets/fashion_mnist/fashion_mnist_test.csv')\n",
    "\n",
    "#从训练数据中，拆解出训练特征和类别标签。\n",
    "X_train = train_data[train_data.columns[1:]]\n",
    "y_train = train_data['label']\n",
    "\n",
    "#从测试数据中，拆解出测试特征和类别标签。\n",
    "X_test = test_data[train_data.columns[1:]]\n",
    "y_test = test_data['label']"
   ]
  },
  {
   "cell_type": "code",
   "execution_count": 4,
   "id": "bd1dc3b8",
   "metadata": {},
   "outputs": [],
   "source": [
    "from sklearn.preprocessing import StandardScaler\n",
    "\n",
    "\n",
    "#初始化数据标准化处理器。\n",
    "ss = StandardScaler()\n",
    "\n",
    "#标准化训练数据特征。\n",
    "X_train = ss.fit_transform(X_train)\n",
    "\n",
    "#标准化测试数据特征。\n",
    "X_test = ss.transform(X_test)"
   ]
  },
  {
   "cell_type": "code",
   "execution_count": 5,
   "id": "9c5d07e0",
   "metadata": {},
   "outputs": [
    {
     "name": "stdout",
     "output_type": "stream",
     "text": [
      "Epoch 1/5\n",
      "938/938 [==============================] - 23s 24ms/step - loss: 0.4751 - accuracy: 0.8257\n",
      "Epoch 2/5\n",
      "938/938 [==============================] - 24s 25ms/step - loss: 0.3347 - accuracy: 0.8764\n",
      "Epoch 3/5\n",
      "938/938 [==============================] - 38s 41ms/step - loss: 0.2916 - accuracy: 0.8931\n",
      "Epoch 4/5\n",
      "938/938 [==============================] - 51s 55ms/step - loss: 0.2611 - accuracy: 0.9026\n",
      "Epoch 5/5\n",
      "938/938 [==============================] - 52s 55ms/step - loss: 0.2344 - accuracy: 0.9124\n"
     ]
    },
    {
     "data": {
      "text/plain": [
       "<keras.callbacks.History at 0x7fdf06d802e0>"
      ]
     },
     "execution_count": 5,
     "metadata": {},
     "output_type": "execute_result"
    }
   ],
   "source": [
    "X_train = X_train.reshape([-1, TIME_STEPS, INPUT_UNITS])\n",
    "\n",
    "#使用fashion_mnist的训练集数据训练网络模型。\n",
    "model.fit(X_train, y_train.values, batch_size=BATCH_SIZE, epochs=EPOCHS, verbose=1)"
   ]
  },
  {
   "cell_type": "code",
   "execution_count": 6,
   "id": "b678b43b",
   "metadata": {},
   "outputs": [
    {
     "name": "stdout",
     "output_type": "stream",
     "text": [
      "循环神经网络（TensorFlow版本）在fashion_mnist测试集上的准确率为: 90.26%。\n"
     ]
    }
   ],
   "source": [
    "X_test = X_test.reshape([-1, TIME_STEPS, INPUT_UNITS])\n",
    "\n",
    "#使用fashion_mnist的测试集数据评估网络模型的效果。\n",
    "result = model.evaluate(X_test, y_test.values, verbose=0)\n",
    "\n",
    "print('循环神经网络（TensorFlow版本）在fashion_mnist测试集上的准确率为: %.2f%%。' %(result[1] * 100))"
   ]
  }
 ],
 "metadata": {
  "kernelspec": {
   "display_name": "Python 3 (ipykernel)",
   "language": "python",
   "name": "python3"
  },
  "language_info": {
   "codemirror_mode": {
    "name": "ipython",
    "version": 3
   },
   "file_extension": ".py",
   "mimetype": "text/x-python",
   "name": "python",
   "nbconvert_exporter": "python",
   "pygments_lexer": "ipython3",
   "version": "3.9.13"
  }
 },
 "nbformat": 4,
 "nbformat_minor": 5
}
