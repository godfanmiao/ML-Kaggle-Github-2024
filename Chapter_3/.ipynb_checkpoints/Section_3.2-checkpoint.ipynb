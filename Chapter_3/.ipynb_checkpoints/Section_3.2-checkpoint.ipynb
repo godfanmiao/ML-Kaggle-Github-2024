{
 "cells": [
  {
   "cell_type": "code",
   "execution_count": 1,
   "id": "374fed24",
   "metadata": {},
   "outputs": [],
   "source": [
    "##################################################################\n",
    "#《Python机器学习及实践：从零开始通往Kaggle竞赛之路（2024年度版）》开源代码\n",
    "#-----------------------------------------------------------------\n",
    "#                 @章节号：3.2（Python基本语法）                           \n",
    "#                 @作者：范淼、徐晟桐 \n",
    "#                 @购书链接：https://item.jd.com/13482761.html\n",
    "#                 @电子邮箱：fanmiao.cslt.thu@hotmail.com             \n",
    "#                 @官方交流QQ群号：561500762                        \n",
    "##################################################################"
   ]
  },
  {
   "cell_type": "code",
   "execution_count": 2,
   "id": "298d57c0",
   "metadata": {},
   "outputs": [
    {
     "data": {
      "text/plain": [
       "'\\n这是使用三个双引号的\\n多行注释\\n'"
      ]
     },
     "execution_count": 2,
     "metadata": {},
     "output_type": "execute_result"
    }
   ],
   "source": [
    "#这是一个单行注释\n",
    "\n",
    "'''\n",
    "这是使用三个单引号的\n",
    "多行注释\n",
    "'''\n",
    "\n",
    "\"\"\"\n",
    "这是使用三个双引号的\n",
    "多行注释\n",
    "\"\"\""
   ]
  },
  {
   "cell_type": "code",
   "execution_count": 3,
   "id": "236b65df",
   "metadata": {},
   "outputs": [
    {
     "ename": "NameError",
     "evalue": "name 'is_ML_Geek' is not defined",
     "output_type": "error",
     "traceback": [
      "\u001b[0;31m---------------------------------------------------------------------------\u001b[0m",
      "\u001b[0;31mNameError\u001b[0m                                 Traceback (most recent call last)",
      "Cell \u001b[0;32mIn[3], line 2\u001b[0m\n\u001b[1;32m      1\u001b[0m \u001b[38;5;66;03m#直接查验未定义变量is_ML_Geek的赋值；运行后，程序报错\u001b[39;00m\n\u001b[0;32m----> 2\u001b[0m \u001b[43mis_ML_Geek\u001b[49m\n",
      "\u001b[0;31mNameError\u001b[0m: name 'is_ML_Geek' is not defined"
     ]
    }
   ],
   "source": [
    "#直接查验未定义变量is_ML_Geek的赋值；运行后，程序报错\n",
    "is_ML_Geek"
   ]
  },
  {
   "cell_type": "code",
   "execution_count": 4,
   "id": "4082b323",
   "metadata": {},
   "outputs": [
    {
     "data": {
      "text/plain": [
       "True"
      ]
     },
     "execution_count": 4,
     "metadata": {},
     "output_type": "execute_result"
    }
   ],
   "source": [
    "#给变量is_ML_Geek赋值\n",
    "is_ML_Geek = True\n",
    "\n",
    "#查验变量is_ML_Geek的赋值\n",
    "is_ML_Geek"
   ]
  },
  {
   "cell_type": "code",
   "execution_count": 5,
   "id": "4fae611c",
   "metadata": {},
   "outputs": [
    {
     "name": "stdout",
     "output_type": "stream",
     "text": [
      "推荐您购买《Python机器及学习实践：从零开始通往Kaggle竞赛之路》！\n"
     ]
    }
   ],
   "source": [
    "\"\"\"\n",
    "如果变量is_ML_Geek的赋值为True，\n",
    "那么程序会输出：”推荐您购买《Python机器学习及实践：从零开始通往Kaggle竞赛之路》！”\n",
    "\"\"\"\n",
    "if is_ML_Geek:\n",
    "    print('推荐您购买《Python机器及学习实践：从零开始通往Kaggle竞赛之路》！')"
   ]
  },
  {
   "cell_type": "code",
   "execution_count": null,
   "id": "4daf3c3a",
   "metadata": {},
   "outputs": [],
   "source": []
  }
 ],
 "metadata": {
  "kernelspec": {
   "display_name": "Python 3 (ipykernel)",
   "language": "python",
   "name": "python3"
  },
  "language_info": {
   "codemirror_mode": {
    "name": "ipython",
    "version": 3
   },
   "file_extension": ".py",
   "mimetype": "text/x-python",
   "name": "python",
   "nbconvert_exporter": "python",
   "pygments_lexer": "ipython3",
   "version": "3.9.16"
  },
  "vscode": {
   "interpreter": {
    "hash": "31f2aee4e71d21fbe5cf8b01ff0e069b9275f58929596ceb00d14d90e3e16cd6"
   }
  }
 },
 "nbformat": 4,
 "nbformat_minor": 5
}
